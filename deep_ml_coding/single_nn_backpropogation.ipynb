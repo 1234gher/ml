{
 "cells": [
  {
   "cell_type": "code",
   "execution_count": 4,
   "id": "f13788f0",
   "metadata": {},
   "outputs": [],
   "source": [
    "\n",
    "import numpy as np\n"
   ]
  },
  {
   "cell_type": "markdown",
   "id": "6fcb5548",
   "metadata": {},
   "source": [
    "# sigmoid function\n"
   ]
  },
  {
   "cell_type": "markdown",
   "id": "737baa0a",
   "metadata": {},
   "source": [
    "##### ease of differentiation and probability interpretation We are using the sigmoid function to convert our sign distances which are in any range (-infinity , +infinity) to [0,1].These transformed distances are nothing but the probability scores for each point no each side of the plane. The all -ve and +ve points which are correctly classified will have probabilities very high and if any outlier is present it will be having very low probability score"
   ]
  },
  {
   "cell_type": "code",
   "execution_count": null,
   "id": "51ef097d",
   "metadata": {},
   "outputs": [],
   "source": [
    "#numpy version of sigmoid function\n",
    "def sigmoid(z: float) -> float:\n",
    "\t#Your code here\n",
    "    result = np.round(1 / (1 + np.exp(-z)),4)\n",
    "    return result"
   ]
  },
  {
   "cell_type": "code",
   "execution_count": 11,
   "id": "3be9cae3",
   "metadata": {},
   "outputs": [
    {
     "name": "stdout",
     "output_type": "stream",
     "text": [
      "0.5\n",
      "0.2689\n",
      "0.7311\n"
     ]
    }
   ],
   "source": [
    "print(sigmoid(0))\n",
    "print(sigmoid(-1))\n",
    "print(sigmoid(1))"
   ]
  },
  {
   "cell_type": "code",
   "execution_count": 14,
   "id": "783ad91d",
   "metadata": {},
   "outputs": [],
   "source": [
    "# pytorch version of sigmoid function\n",
    "def sigmoid(z: torch.Tensor) -> torch.Tensor:\n",
    "    # result = 1 / (1 + torch.exp(-z))\n",
    "    return torch.round(torch.sigmoid(z), decimals=4)"
   ]
  },
  {
   "cell_type": "code",
   "execution_count": 15,
   "id": "985d08ac",
   "metadata": {},
   "outputs": [
    {
     "name": "stdout",
     "output_type": "stream",
     "text": [
      "0.5\n"
     ]
    }
   ],
   "source": [
    "print(sigmoid(torch.tensor(0)).item())"
   ]
  },
  {
   "cell_type": "markdown",
   "id": "f196c3c6",
   "metadata": {},
   "source": [
    "# single neuron network and mean squared error"
   ]
  },
  {
   "cell_type": "code",
   "execution_count": null,
   "id": "6b248cce",
   "metadata": {},
   "outputs": [],
   "source": [
    "def get_mse(predictions: np.ndarray, labels: np.ndarray) -> float: \n",
    "\n",
    "    error = predictions - labels\n",
    "    squared_error = np.square(error)\n",
    "    mse_value = np.mean(squared_error)\n",
    "    return round(float(mse_value),4)"
   ]
  },
  {
   "cell_type": "code",
   "execution_count": 36,
   "id": "20622ebe",
   "metadata": {},
   "outputs": [],
   "source": [
    "def single_neuron_model(features: list[list[float]], labels: list[int], weights: list[float], bias: float) -> (list[float], float):\n",
    "\tfeatures_1 = np.array(features)  # Ensure features are a 2D array\n",
    "\tweights_1 = np.array(weights).reshape(-1, 1)  # Ensure weights are a column vecto\n",
    "\tlabels = np.array(labels).reshape(-1, 1)  # Ensure labels are a column vector     \n",
    "\tdot_product = np.dot(features_1, weights_1)\n",
    "\toutput = dot_product+bias\n",
    "\tprobabilities = sigmoid(output)\n",
    "\tmse = get_mse(probabilities, labels)\n",
    "\t\n",
    "\treturn probabilities, mse"
   ]
  },
  {
   "cell_type": "code",
   "execution_count": 37,
   "id": "a92a3b37",
   "metadata": {},
   "outputs": [
    {
     "name": "stdout",
     "output_type": "stream",
     "text": [
      "(array([[0.4626],\n",
      "       [0.4134],\n",
      "       [0.6682]]), 0.3349)\n",
      "(array([[0.525 ],\n",
      "       [0.5987],\n",
      "       [0.7858]]), 0.21)\n"
     ]
    }
   ],
   "source": [
    "print(single_neuron_model([[0.5, 1.0], [-1.5, -2.0], [2.0, 1.5]], [0, 1, 0], [0.7, -0.4], -0.1)) \n",
    "print(single_neuron_model([[1, 2], [2, 3], [3, 1]], [1, 0, 1], [0.5, -0.2], 0))"
   ]
  },
  {
   "cell_type": "markdown",
   "id": "bd6af151",
   "metadata": {},
   "source": [
    "# Single Neuron with Backpropagation"
   ]
  },
  {
   "cell_type": "markdown",
   "id": "1984af83",
   "metadata": {},
   "source": [
    "### <img src=\"../img/img_3.png\" width=\"900\" height=\"500\">\n",
    "### <img src=\"../img/img_4.png\" width=\"900\" height=\"900\">"
   ]
  },
  {
   "cell_type": "code",
   "execution_count": 6,
   "id": "c686d1ed",
   "metadata": {},
   "outputs": [],
   "source": [
    "import numpy as np\n",
    "\n",
    "def sigmoid(z: np.ndarray) -> np.ndarray:\n",
    "    result = 1 / (1 + np.exp(-z))\n",
    "    return result\n",
    "\n",
    "def sigmoid_derivative(x: np.ndarray) -> np.ndarray:\n",
    "    # Sigmoid derivative: f'(z) = f(z) * (1 - f(z))\n",
    "    # where f(z) is the sigmoid function, \n",
    "    # here x is the output of the sigmoid function\n",
    "    return x*(1-x)\n",
    "\n",
    "def forward_propogation(features: np.ndarray, bias: float, weights: np.ndarray) -> np.ndarray:\n",
    "    output = np.dot(features, weights) + bias\n",
    "    probabilities = sigmoid(output)\n",
    "    return probabilities\n",
    "\n",
    "def get_mse(predictions: np.ndarray, labels: np.ndarray) -> float: \n",
    "    mse_value = np.mean((predictions - labels) ** 2)\n",
    "    return np.round(float(mse_value),4)\n",
    "\n",
    "def mse_derivative(predictions: np.ndarray, labels: np.ndarray) -> np.ndarray:\n",
    "    n = predictions.shape[0]\n",
    "    return (2 / n) * (predictions - labels)\n",
    "\n",
    "def back_propogation(predictions, labels, weight, bias, learning_rate, features) -> np.ndarray:\n",
    "    # dL/dw = dL/dy' * dy'/dz * dz/dw (see above picture)\n",
    "    error = mse_derivative(predictions, labels) #dL/y'\n",
    "    delta = error * sigmoid_derivative(predictions) #dL/dy' * dy'/dz\n",
    "    weights_output = weight - (np.dot(features.T, delta) * learning_rate) # w - (dL/dy * dy/dz * x)  we get x from dz/w i.e z = w*x + b\n",
    "    bias_output = bias - (np.sum(delta) * learning_rate)\n",
    "    return weights_output, bias_output\n",
    "\n",
    "\n",
    "def train_neuron(features: np.ndarray, labels: np.ndarray, initial_weights: np.ndarray, initial_bias: float, learning_rate: float, epochs: int) -> (np.ndarray, float, list[float]):\n",
    "    labels = np.array(labels)\n",
    "    weights = np.array(initial_weights)\n",
    "    bias = initial_bias\n",
    "    mse_values = []\n",
    "\n",
    "    for _ in range(epochs):\n",
    "        # forward feed\n",
    "        predictions = forward_propogation(features, bias, weights)\n",
    "        mse_values.append(get_mse(predictions, labels))\n",
    "        \n",
    "        weights, bias = back_propogation(predictions, labels, weights, bias, learning_rate, features)\n",
    "        weights = np.round(weights, 4)\n",
    "        bias = round(bias, 4)\n",
    "    \n",
    "    updated_weights = weights\n",
    "    updated_bias = bias\n",
    "    \n",
    "    return (\n",
    "    updated_weights.tolist(),             \n",
    "    round(float(updated_bias), 4),             \n",
    "    np.round(mse_values, 4).tolist()           \n",
    "    )"
   ]
  },
  {
   "cell_type": "code",
   "execution_count": 7,
   "id": "ec3d11ae",
   "metadata": {},
   "outputs": [
    {
     "name": "stdout",
     "output_type": "stream",
     "text": [
      "([0.1036, -0.1426], -0.0167, [0.3033, 0.2942])\n",
      "([0.4892, -0.2301], 0.0029, [0.21, 0.2087, 0.2076])\n"
     ]
    }
   ],
   "source": [
    "print(train_neuron(np.array([[1.0, 2.0], [2.0, 1.0], [-1.0, -2.0]]), np.array([1, 0, 0]), np.array([0.1, -0.2]), 0.0, 0.1, 2))\n",
    "print(train_neuron(np.array([[1, 2], [2, 3], [3, 1]]), np.array([1, 0, 1]), np.array([0.5, -0.2]), 0, 0.1, 3))"
   ]
  },
  {
   "cell_type": "markdown",
   "id": "2cc305e5",
   "metadata": {},
   "source": []
  },
  {
   "cell_type": "code",
   "execution_count": null,
   "id": "56d60a83",
   "metadata": {},
   "outputs": [],
   "source": []
  },
  {
   "cell_type": "code",
   "execution_count": null,
   "id": "86b8ac8b",
   "metadata": {},
   "outputs": [],
   "source": []
  }
 ],
 "metadata": {
  "kernelspec": {
   "display_name": "ppl_env",
   "language": "python",
   "name": "python3"
  },
  "language_info": {
   "codemirror_mode": {
    "name": "ipython",
    "version": 3
   },
   "file_extension": ".py",
   "mimetype": "text/x-python",
   "name": "python",
   "nbconvert_exporter": "python",
   "pygments_lexer": "ipython3",
   "version": "3.11.8"
  }
 },
 "nbformat": 4,
 "nbformat_minor": 5
}
