{
 "cells": [
  {
   "cell_type": "code",
   "execution_count": 22,
   "id": "8790332d",
   "metadata": {},
   "outputs": [],
   "source": [
    "import numpy as np\n",
    "import math"
   ]
  },
  {
   "cell_type": "markdown",
   "id": "8fdabeda",
   "metadata": {},
   "source": [
    "# matrix_vector_dot_product"
   ]
  },
  {
   "cell_type": "code",
   "execution_count": null,
   "id": "25538db7",
   "metadata": {},
   "outputs": [],
   "source": [
    "\n",
    "def matrix_dot_vector(a: list[list[int|float]], b: list[int|float]) -> list[int|float]:\n",
    "\t# Return a list where each element is the dot product of a row of 'a' with 'b'.\n",
    "\t# If the number of columns in 'a' does not match the length of 'b', return -1.\n",
    "\tif len(a[0])!=len(b):\n",
    "\t\treturn -1\n",
    "\telse:\n",
    "\t\treturn np.dot(a,b)"
   ]
  },
  {
   "cell_type": "markdown",
   "id": "fd1c53cf",
   "metadata": {},
   "source": [
    "\n",
    "## how does dot product work \n",
    "\n",
    "### <img src=\"../img/img_1.png\" width=\"500\" height=\"500\">"
   ]
  },
  {
   "cell_type": "code",
   "execution_count": 3,
   "id": "78b988da",
   "metadata": {},
   "outputs": [
    {
     "data": {
      "text/plain": [
       "array([[ 9, 12],\n",
       "       [18, 24]])"
      ]
     },
     "execution_count": 3,
     "metadata": {},
     "output_type": "execute_result"
    }
   ],
   "source": [
    "a = [[1, 2], [2, 4]]\n",
    "b = [[1, 2], [4, 5]]\n",
    "np.dot(a, b)"
   ]
  },
  {
   "cell_type": "markdown",
   "id": "1536dc78",
   "metadata": {},
   "source": []
  },
  {
   "cell_type": "code",
   "execution_count": 6,
   "id": "d0cbcdd4",
   "metadata": {},
   "outputs": [
    {
     "data": {
      "text/plain": [
       "array([[ 9, 12, 15],\n",
       "       [18, 24, 30]])"
      ]
     },
     "execution_count": 6,
     "metadata": {},
     "output_type": "execute_result"
    }
   ],
   "source": [
    "a = [[1, 2], [2, 4]]\n",
    "b = [[1, 2, 3], [4, 5, 6]]\n",
    "\n",
    "\n",
    "np.dot(a, b)"
   ]
  },
  {
   "cell_type": "markdown",
   "id": "14ac60b9",
   "metadata": {},
   "source": [
    "# Reshape Matrix\n",
    "## how does reshape works \n",
    "- .reshape(2, 3) You're asking NumPy to reshape the array to shape (2, 3) — i.e., 2 rows and 3 columns.\n",
    "- Reshape does not change the data, only how it's grouped.\n",
    "- NumPy will flatten the original matrix row-wise:\n",
    "- Original data: [1, 2, 2, 4, 2, 3]"
   ]
  },
  {
   "cell_type": "code",
   "execution_count": 9,
   "id": "9798f9c2",
   "metadata": {},
   "outputs": [
    {
     "name": "stdout",
     "output_type": "stream",
     "text": [
      "[[1 2 2]\n",
      " [4 2 3]]\n"
     ]
    }
   ],
   "source": [
    "a = [[1, 2], [2, 4], [2,3]]\n",
    "matrix = np.array(a).reshape(2, 3)  # 2 rows, 3 columns\n",
    "\n",
    "print(matrix)"
   ]
  },
  {
   "cell_type": "code",
   "execution_count": 10,
   "id": "a1935ad2",
   "metadata": {},
   "outputs": [
    {
     "name": "stdout",
     "output_type": "stream",
     "text": [
      "[[1 2]\n",
      " [2 4]\n",
      " [2 3]]\n"
     ]
    }
   ],
   "source": [
    "matrix = np.array(a)\n",
    "print(matrix)"
   ]
  },
  {
   "cell_type": "code",
   "execution_count": 11,
   "id": "a1e106fb",
   "metadata": {},
   "outputs": [],
   "source": [
    "def reshape_matrix(a: list[list[int|float]], new_shape: tuple[int, int]) -> list[list[int|float]]:\n",
    "\t#Write your code here and return a python list after reshaping by using numpy's tolist() method\n",
    "    temp_matrix = np.array(a)\n",
    "    if temp_matrix.size != (new_shape[0]*new_shape[1]):\n",
    "        return []\n",
    "    reshaped_matrix = temp_matrix.reshape(new_shape[0],new_shape[1]).tolist()\n",
    "    return reshaped_matrix"
   ]
  },
  {
   "cell_type": "markdown",
   "id": "7b7d8d6a",
   "metadata": {},
   "source": [
    "# transpose_matrix"
   ]
  },
  {
   "cell_type": "code",
   "execution_count": 12,
   "id": "2c197781",
   "metadata": {},
   "outputs": [],
   "source": [
    "def transpose_matrix(a: list[list[int|float]]) -> list[list[int|float]]:\n",
    "    matrix = np.array(a)\n",
    "    b = matrix.T\n",
    "    return b"
   ]
  },
  {
   "cell_type": "code",
   "execution_count": 14,
   "id": "55740d28",
   "metadata": {},
   "outputs": [
    {
     "name": "stdout",
     "output_type": "stream",
     "text": [
      "[[1, 2], [2, 4], [2, 3]]\n",
      "[[1 2 2]\n",
      " [2 4 3]]\n"
     ]
    }
   ],
   "source": [
    "a = [[1, 2], [2, 4], [2,3]]\n",
    "print(a)\n",
    "print(transpose_matrix(a))"
   ]
  },
  {
   "cell_type": "markdown",
   "id": "e66980a4",
   "metadata": {},
   "source": [
    "# Calculate Mean by Row or Column"
   ]
  },
  {
   "cell_type": "code",
   "execution_count": 15,
   "id": "864a9a8e",
   "metadata": {},
   "outputs": [],
   "source": [
    "import numpy as np\n",
    "def calculate_matrix_mean(matrix: list[list[float]], mode: str) -> list[float]:\n",
    "    if mode == 'column':\n",
    "        means=np.mean(matrix, axis=0) #column-wise mean\n",
    "    else:\n",
    "        means = np.mean(matrix, axis=1) #row-wise mean\n",
    "    return means"
   ]
  },
  {
   "cell_type": "code",
   "execution_count": 17,
   "id": "99badf04",
   "metadata": {},
   "outputs": [
    {
     "name": "stdout",
     "output_type": "stream",
     "text": [
      "[2.5 3.5]\n",
      "[1.5 4.5]\n"
     ]
    }
   ],
   "source": [
    "print(calculate_matrix_mean([[1, 2], [4, 5]], 'column'))\n",
    "print(calculate_matrix_mean([[1, 2], [4, 5]], 'row'))"
   ]
  },
  {
   "cell_type": "markdown",
   "id": "8020b7b2",
   "metadata": {},
   "source": [
    "# Scalar Multiplication of a Matrix"
   ]
  },
  {
   "cell_type": "code",
   "execution_count": 20,
   "id": "6657b138",
   "metadata": {},
   "outputs": [],
   "source": [
    "def scalar_multiply(matrix: list[list[int|float]], scalar: int|float) -> list[list[int|float]]:\n",
    "    result = np.array(matrix)*scalar\n",
    "    return result"
   ]
  },
  {
   "cell_type": "code",
   "execution_count": 21,
   "id": "b9e1ce26",
   "metadata": {},
   "outputs": [
    {
     "name": "stdout",
     "output_type": "stream",
     "text": [
      "[[2 4]\n",
      " [6 8]]\n"
     ]
    }
   ],
   "source": [
    "print(scalar_multiply([[1,2],[3,4]], 2))"
   ]
  },
  {
   "cell_type": "markdown",
   "id": "6f75e736",
   "metadata": {},
   "source": [
    "# cosine similarity "
   ]
  },
  {
   "cell_type": "code",
   "execution_count": 23,
   "id": "3f9f38a9",
   "metadata": {},
   "outputs": [],
   "source": [
    "\n",
    "def cosine_similarity(v1, v2):\n",
    "    numerator = np.sum(np.dot(v1,v2),axis = 0)\n",
    "    sqrt_sum_A = math.sqrt(np.sum(np.square(v1),axis =0))\n",
    "    sqrt_sum_B = math.sqrt(np.sum(np.square(v2),axis =0))\n",
    "    result = round(numerator / (sqrt_sum_A * sqrt_sum_B),3)\n",
    "    return result"
   ]
  },
  {
   "cell_type": "code",
   "execution_count": 25,
   "id": "f9347cae",
   "metadata": {},
   "outputs": [
    {
     "name": "stdout",
     "output_type": "stream",
     "text": [
      "1.0\n",
      "0.939\n"
     ]
    }
   ],
   "source": [
    "v1 = np.array([1, 2, 3]) \n",
    "v2 = np.array([2, 4, 6]) \n",
    "print(cosine_similarity(v1, v2))\n",
    "\n",
    "v1 = np.array([1, 0, 7]) \n",
    "v2 = np.array([0, 1, 3]) \n",
    "print(cosine_similarity(v1, v2))"
   ]
  },
  {
   "cell_type": "code",
   "execution_count": null,
   "id": "3bb07fd9",
   "metadata": {},
   "outputs": [],
   "source": []
  }
 ],
 "metadata": {
  "kernelspec": {
   "display_name": "ppl_env",
   "language": "python",
   "name": "python3"
  },
  "language_info": {
   "codemirror_mode": {
    "name": "ipython",
    "version": 3
   },
   "file_extension": ".py",
   "mimetype": "text/x-python",
   "name": "python",
   "nbconvert_exporter": "python",
   "pygments_lexer": "ipython3",
   "version": "3.11.8"
  }
 },
 "nbformat": 4,
 "nbformat_minor": 5
}
