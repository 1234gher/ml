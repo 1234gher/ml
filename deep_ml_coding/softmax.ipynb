{
 "cells": [
  {
   "cell_type": "code",
   "execution_count": 5,
   "id": "8790332d",
   "metadata": {},
   "outputs": [],
   "source": [
    "import numpy as np"
   ]
  },
  {
   "cell_type": "markdown",
   "id": "95107cf0",
   "metadata": {},
   "source": [
    "# softmax"
   ]
  },
  {
   "cell_type": "markdown",
   "id": "1d61922e",
   "metadata": {},
   "source": [
    "#### why softmax should be exponential\n",
    "\n",
    "### <img src=\"../img/img_2.png\" width=\"900\" height=\"500\">"
   ]
  },
  {
   "cell_type": "code",
   "execution_count": 4,
   "id": "f6d732b3",
   "metadata": {},
   "outputs": [
    {
     "name": "stdout",
     "output_type": "stream",
     "text": [
      "[0.09003057 0.24472847 0.66524096]\n",
      "[0.46831053 0.06337894 0.46831053]\n"
     ]
    }
   ],
   "source": [
    "def softmax(scores: list[float]) -> list[float]:\n",
    "    array_scores = np.array(scores)\n",
    "    \n",
    "    exp_scores = np.exp(array_scores)\n",
    "\n",
    "    probabilities = exp_scores / np.sum(exp_scores)\n",
    "    return probabilities\n",
    "\n",
    "print(softmax([1, 2, 3]))\n",
    "print(softmax([1, -1, 1]))"
   ]
  },
  {
   "cell_type": "markdown",
   "id": "a5f6f573",
   "metadata": {},
   "source": []
  }
 ],
 "metadata": {
  "kernelspec": {
   "display_name": "ppl_env",
   "language": "python",
   "name": "python3"
  },
  "language_info": {
   "codemirror_mode": {
    "name": "ipython",
    "version": 3
   },
   "file_extension": ".py",
   "mimetype": "text/x-python",
   "name": "python",
   "nbconvert_exporter": "python",
   "pygments_lexer": "ipython3",
   "version": "3.11.8"
  }
 },
 "nbformat": 4,
 "nbformat_minor": 5
}
