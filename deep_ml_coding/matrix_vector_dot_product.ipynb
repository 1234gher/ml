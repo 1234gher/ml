{
 "cells": [
  {
   "cell_type": "code",
   "execution_count": null,
   "id": "f5ba1f74",
   "metadata": {},
   "outputs": [],
   "source": [
    "import numpy as np\n",
    "def matrix_dot_vector(a: list[list[int|float]], b: list[int|float]) -> list[int|float]:\n",
    "\t# Return a list where each element is the dot product of a row of 'a' with 'b'.\n",
    "\t# If the number of columns in 'a' does not match the length of 'b', return -1.\n",
    "\tif len(a[0])!=len(b):\n",
    "\t\treturn -1\n",
    "\telse:\n",
    "\t\treturn np.dot(a,b)"
   ]
  },
  {
   "cell_type": "markdown",
   "id": "fd1c53cf",
   "metadata": {},
   "source": [
    "\n",
    "# how does dot product work \n",
    "\n",
    "### <img src=\"../img/img_1.png\" width=\"500\" height=\"500\">"
   ]
  },
  {
   "cell_type": "code",
   "execution_count": 3,
   "id": "78b988da",
   "metadata": {},
   "outputs": [
    {
     "data": {
      "text/plain": [
       "array([[ 9, 12],\n",
       "       [18, 24]])"
      ]
     },
     "execution_count": 3,
     "metadata": {},
     "output_type": "execute_result"
    }
   ],
   "source": [
    "a = [[1, 2], [2, 4]]\n",
    "b = [[1, 2], [4, 5]]\n",
    "np.dot(a, b)"
   ]
  },
  {
   "cell_type": "code",
   "execution_count": 6,
   "id": "d0cbcdd4",
   "metadata": {},
   "outputs": [
    {
     "data": {
      "text/plain": [
       "array([[ 9, 12, 15],\n",
       "       [18, 24, 30]])"
      ]
     },
     "execution_count": 6,
     "metadata": {},
     "output_type": "execute_result"
    }
   ],
   "source": [
    "a = [[1, 2], [2, 4]]\n",
    "b = [[1, 2, 3], [4, 5, 6]]\n",
    "\n",
    "\n",
    "np.dot(a, b)"
   ]
  },
  {
   "cell_type": "markdown",
   "id": "14ac60b9",
   "metadata": {},
   "source": [
    "## how does reshape works \n",
    "- .reshape(2, 3) You're asking NumPy to reshape the array to shape (2, 3) — i.e., 2 rows and 3 columns.\n",
    "- Reshape does not change the data, only how it's grouped.\n",
    "- NumPy will flatten the original matrix row-wise:\n",
    "- Original data: [1, 2, 2, 4, 2, 3]"
   ]
  },
  {
   "cell_type": "code",
   "execution_count": 9,
   "id": "9798f9c2",
   "metadata": {},
   "outputs": [
    {
     "name": "stdout",
     "output_type": "stream",
     "text": [
      "[[1 2 2]\n",
      " [4 2 3]]\n"
     ]
    }
   ],
   "source": [
    "a = [[1, 2], [2, 4], [2,3]]\n",
    "matrix = np.array(a).reshape(2, 3)  # 2 rows, 3 columns\n",
    "\n",
    "print(matrix)"
   ]
  },
  {
   "cell_type": "code",
   "execution_count": 10,
   "id": "a1935ad2",
   "metadata": {},
   "outputs": [
    {
     "name": "stdout",
     "output_type": "stream",
     "text": [
      "[[1 2]\n",
      " [2 4]\n",
      " [2 3]]\n"
     ]
    }
   ],
   "source": [
    "matrix = np.array(a)\n",
    "print(matrix)"
   ]
  },
  {
   "cell_type": "code",
   "execution_count": null,
   "id": "a1e106fb",
   "metadata": {},
   "outputs": [],
   "source": []
  }
 ],
 "metadata": {
  "kernelspec": {
   "display_name": "ppl_env",
   "language": "python",
   "name": "python3"
  },
  "language_info": {
   "codemirror_mode": {
    "name": "ipython",
    "version": 3
   },
   "file_extension": ".py",
   "mimetype": "text/x-python",
   "name": "python",
   "nbconvert_exporter": "python",
   "pygments_lexer": "ipython3",
   "version": "3.11.8"
  }
 },
 "nbformat": 4,
 "nbformat_minor": 5
}
